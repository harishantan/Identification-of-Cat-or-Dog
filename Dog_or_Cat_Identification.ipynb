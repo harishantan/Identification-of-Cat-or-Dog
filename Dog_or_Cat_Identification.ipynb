{
  "nbformat": 4,
  "nbformat_minor": 0,
  "metadata": {
    "colab": {
      "provenance": [],
      "authorship_tag": "ABX9TyN/TAg/ulAVaiyKU0JWFkRY",
      "include_colab_link": true
    },
    "kernelspec": {
      "name": "python3",
      "display_name": "Python 3"
    },
    "language_info": {
      "name": "python"
    }
  },
  "cells": [
    {
      "cell_type": "markdown",
      "metadata": {
        "id": "view-in-github",
        "colab_type": "text"
      },
      "source": [
        "<a href=\"https://colab.research.google.com/github/harishantan/Identification-of-Cat-or-Dog/blob/main/Dog_or_Cat_Identification.ipynb\" target=\"_parent\"><img src=\"https://colab.research.google.com/assets/colab-badge.svg\" alt=\"Open In Colab\"/></a>"
      ]
    },
    {
      "cell_type": "code",
      "execution_count": null,
      "metadata": {
        "colab": {
          "base_uri": "https://localhost:8080/"
        },
        "id": "k16R9IYN1UTh",
        "outputId": "7679b5b0-777f-4a99-8b2b-005c36709965"
      },
      "outputs": [
        {
          "output_type": "stream",
          "name": "stdout",
          "text": [
            "Accuracy: 0.6\n",
            "The predicted class is: dog\n"
          ]
        }
      ],
      "source": [
        "import os\n",
        "import numpy as np\n",
        "from sklearn.model_selection import train_test_split\n",
        "from sklearn.svm import SVC\n",
        "from sklearn.metrics import accuracy_score\n",
        "import cv2\n",
        "from skimage import color, feature, transform\n",
        "\n",
        "# Function to preprocess an image\n",
        "def preprocess_image(image_path):\n",
        "    image = cv2.imread(image_path)\n",
        "    resized_image = cv2.resize(image, (64, 64))\n",
        "    grayscale_image = color.rgb2gray(resized_image)\n",
        "    hog_features = feature.hog(grayscale_image)\n",
        "    return hog_features\n",
        "\n",
        "# Function to predict the class of a new image\n",
        "def predict_image(image_path, model, preprocess_function):\n",
        "    hog_features = preprocess_function(image_path)\n",
        "    features_for_prediction = hog_features.reshape(1, -1)\n",
        "    predicted_class = model.predict(features_for_prediction)[0]\n",
        "    return predicted_class\n",
        "\n",
        "# Assuming the folder contains images of both cats and dogs\n",
        "base_folder = '/content/drive/MyDrive/train1'  # Replace with your actual path\n",
        "\n",
        "X = []\n",
        "y = []\n",
        "\n",
        "for image_name in os.listdir(base_folder):\n",
        "    image_path = os.path.join(base_folder, image_name)\n",
        "    hog_features = preprocess_image(image_path)\n",
        "\n",
        "    # Extract class label from the filename\n",
        "    label = 'cat' if 'cat' in image_name else 'dog'\n",
        "\n",
        "    X.append(hog_features)\n",
        "    y.append(label)\n",
        "\n",
        "X = np.array(X)\n",
        "y = np.array(y)\n",
        "\n",
        "# Split the dataset into training and testing sets\n",
        "X_train, X_test, y_train, y_test = train_test_split(X, y, test_size=0.2, random_state=42)\n",
        "\n",
        "# Train a Support Vector Machine (SVM) classifier\n",
        "svm_model = SVC(kernel='linear')\n",
        "svm_model.fit(X_train, y_train)\n",
        "\n",
        "# Make predictions on the test set\n",
        "y_pred = svm_model.predict(X_test)\n",
        "\n",
        "# Evaluate the accuracy of the model\n",
        "accuracy = accuracy_score(y_test, y_pred)\n",
        "print(f'Accuracy: {accuracy}')\n",
        "\n",
        "# Example usage of the predict_image function\n",
        "image_path_to_predict = '/content/drive/MyDrive/test3/9574.jpg'  # Replace with the actual path to your image\n",
        "predicted_class = predict_image(image_path_to_predict, svm_model, preprocess_image)\n",
        "\n",
        "print(f'The predicted class is: {predicted_class}')\n"
      ]
    }
  ]
}